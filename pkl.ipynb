{
  "nbformat": 4,
  "nbformat_minor": 0,
  "metadata": {
    "colab": {
      "provenance": [],
      "authorship_tag": "ABX9TyOBeK3q56wrkMN8GbV0YO7i",
      "include_colab_link": true
    },
    "kernelspec": {
      "name": "python3",
      "display_name": "Python 3"
    },
    "language_info": {
      "name": "python"
    }
  },
  "cells": [
    {
      "cell_type": "markdown",
      "metadata": {
        "id": "view-in-github",
        "colab_type": "text"
      },
      "source": [
        "<a href=\"https://colab.research.google.com/github/afzal/ML-IMPO/blob/main/pkl.ipynb\" target=\"_parent\"><img src=\"https://colab.research.google.com/assets/colab-badge.svg\" alt=\"Open In Colab\"/></a>"
      ]
    },
    {
      "cell_type": "code",
      "execution_count": 1,
      "metadata": {
        "colab": {
          "base_uri": "https://localhost:8080/"
        },
        "id": "OZRXjrg2AaVf",
        "outputId": "a31c2b24-552d-41f3-bd3e-8e5096d4388c"
      },
      "outputs": [
        {
          "output_type": "execute_result",
          "data": {
            "text/plain": [
              "['random_forest_model.pkl']"
            ]
          },
          "metadata": {},
          "execution_count": 1
        }
      ],
      "source": [
        "from sklearn.ensemble import RandomForestRegressor\n",
        "from sklearn.datasets import make_regression\n",
        "from sklearn.model_selection import train_test_split\n",
        "import joblib\n",
        "\n",
        "# Generate some example data\n",
        "X, y = make_regression(n_samples=500, n_features=5, noise=0.1, random_state=42)\n",
        "X_train, X_test, y_train, y_test = train_test_split(X, y, test_size=0.2, random_state=42)\n",
        "\n",
        "# Train a Random Forest model\n",
        "model = RandomForestRegressor(n_estimators=100, max_depth=10, random_state=42)\n",
        "model.fit(X_train, y_train)\n",
        "\n",
        "# Save the trained model\n",
        "joblib.dump(model, 'random_forest_model.pkl')\n"
      ]
    },
    {
      "cell_type": "code",
      "source": [
        "import joblib\n",
        "import numpy as np\n",
        "\n",
        "# 1. Load the trained model from the .pkl file\n",
        "model = joblib.load('random_forest_model.pkl')\n",
        "\n",
        "# 2. Create or load new input data (must match the training feature shape)\n",
        "# For example, 5 features (same as training)\n",
        "new_data = np.array([[0.5, -1.2, 3.3, 0.7, 1.1]])\n",
        "\n",
        "# 3. Make a prediction\n",
        "predicted_throughput = model.predict(new_data)\n",
        "\n",
        "# 4. Print the result\n",
        "print(\"Predicted throughput (Kbps):\", predicted_throughput[0])\n"
      ],
      "metadata": {
        "colab": {
          "base_uri": "https://localhost:8080/"
        },
        "id": "eH_Yz1vOAlvm",
        "outputId": "8fda742c-8082-40a6-9375-2f46c9d68f92"
      },
      "execution_count": 2,
      "outputs": [
        {
          "output_type": "stream",
          "name": "stdout",
          "text": [
            "Predicted throughput (Kbps): 33.37539021425955\n"
          ]
        }
      ]
    }
  ]
}