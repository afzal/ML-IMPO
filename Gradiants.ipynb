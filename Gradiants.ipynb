{
  "nbformat": 4,
  "nbformat_minor": 0,
  "metadata": {
    "colab": {
      "provenance": [],
      "authorship_tag": "ABX9TyN/grRHtIvUJVSravUI+gF+",
      "include_colab_link": true
    },
    "kernelspec": {
      "name": "python3",
      "display_name": "Python 3"
    },
    "language_info": {
      "name": "python"
    }
  },
  "cells": [
    {
      "cell_type": "markdown",
      "metadata": {
        "id": "view-in-github",
        "colab_type": "text"
      },
      "source": [
        "<a href=\"https://colab.research.google.com/github/afzal/ML-IMPO/blob/main/Gradiants.ipynb\" target=\"_parent\"><img src=\"https://colab.research.google.com/assets/colab-badge.svg\" alt=\"Open In Colab\"/></a>"
      ]
    },
    {
      "cell_type": "markdown",
      "source": [
        "If the **Grads** are **very large (e.g. >100)**, it's a sign of **exploding gradients.**"
      ],
      "metadata": {
        "id": "JlgAHWR4FKZd"
      }
    },
    {
      "cell_type": "code",
      "execution_count": null,
      "metadata": {
        "colab": {
          "base_uri": "https://localhost:8080/"
        },
        "id": "Sj5f4ME7En8H",
        "outputId": "ed0ea26a-3575-43a8-a208-a090a790d897"
      },
      "outputs": [
        {
          "output_type": "stream",
          "name": "stderr",
          "text": [
            "/usr/local/lib/python3.11/dist-packages/keras/src/layers/core/dense.py:87: UserWarning: Do not pass an `input_shape`/`input_dim` argument to a layer. When using Sequential models, prefer using an `Input(shape)` object as the first layer in the model instead.\n",
            "  super().__init__(activity_regularizer=activity_regularizer, **kwargs)\n"
          ]
        },
        {
          "output_type": "stream",
          "name": "stdout",
          "text": [
            "Layer 1 gradient norm: 0.1664\n",
            "Layer 2 gradient norm: 0.0359\n",
            "Layer 3 gradient norm: 0.2042\n",
            "Layer 4 gradient norm: 0.0400\n",
            "Layer 5 gradient norm: 0.1682\n",
            "Layer 6 gradient norm: 0.0413\n",
            "Layer 7 gradient norm: 0.0837\n",
            "Layer 8 gradient norm: 0.0061\n"
          ]
        }
      ],
      "source": [
        "import tensorflow as tf\n",
        "import numpy as np\n",
        "\n",
        "# Dummy data\n",
        "X = np.random.rand(1000, 50).astype(np.float32)\n",
        "y = np.random.randint(0, 2, size=(1000,)).astype(np.float32)\n",
        "\n",
        "# Model\n",
        "model = tf.keras.Sequential([\n",
        "    tf.keras.layers.Dense(1024, activation='relu', input_shape=(50,)),\n",
        "    tf.keras.layers.Dense(1024, activation='relu'),\n",
        "    tf.keras.layers.Dense(1024, activation='relu'),\n",
        "    tf.keras.layers.Dense(1, activation='sigmoid')\n",
        "])\n",
        "\n",
        "optimizer = tf.keras.optimizers.Adam(learning_rate=0.01)\n",
        "loss_fn = tf.keras.losses.BinaryCrossentropy()\n",
        "\n",
        "# One batch for checking\n",
        "X_batch = X[:32]\n",
        "y_batch = y[:32]\n",
        "\n",
        "# Use GradientTape to compute gradients\n",
        "with tf.GradientTape() as tape:\n",
        "    y_pred = model(X_batch, training=True)\n",
        "    loss = loss_fn(y_batch, y_pred)\n",
        "\n",
        "grads = tape.gradient(loss, model.trainable_variables)\n",
        "\n",
        "# Print gradient norms\n",
        "for i, grad in enumerate(grads):\n",
        "    if grad is not None:\n",
        "        print(f\"Layer {i + 1} gradient norm: {tf.norm(grad).numpy():.4f}\")\n"
      ]
    },
    {
      "cell_type": "code",
      "source": [],
      "metadata": {
        "id": "Oef7m8zAFL-N"
      },
      "execution_count": null,
      "outputs": []
    }
  ]
}