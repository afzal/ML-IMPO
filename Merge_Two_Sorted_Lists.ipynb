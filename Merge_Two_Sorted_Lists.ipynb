{
  "nbformat": 4,
  "nbformat_minor": 0,
  "metadata": {
    "colab": {
      "provenance": [],
      "authorship_tag": "ABX9TyP63OSaCVWEoEizqmwb+CfA",
      "include_colab_link": true
    },
    "kernelspec": {
      "name": "python3",
      "display_name": "Python 3"
    },
    "language_info": {
      "name": "python"
    }
  },
  "cells": [
    {
      "cell_type": "markdown",
      "metadata": {
        "id": "view-in-github",
        "colab_type": "text"
      },
      "source": [
        "<a href=\"https://colab.research.google.com/github/afzal/ML-IMPO/blob/main/Merge_Two_Sorted_Lists.ipynb\" target=\"_parent\"><img src=\"https://colab.research.google.com/assets/colab-badge.svg\" alt=\"Open In Colab\"/></a>"
      ]
    },
    {
      "cell_type": "markdown",
      "source": [
        "You are given the heads of two sorted linked lists list1 and list2.\n",
        "\n",
        "Merge the two lists into one sorted list. The list should be made by splicing together the nodes of the first two lists.\n",
        "\n",
        "Return the head of the merged linked list.\n",
        "\n",
        "\n",
        "\n",
        "Example 1:\n",
        "\n",
        "Input: list1 = [1,2,4], list2 = [1,3,4]\n",
        "Output: [1,1,2,3,4,4]\n",
        "\n",
        "Example 2:\n",
        "\n",
        "Input: list1 = [], list2 = []\n",
        "Output: []\n",
        "\n",
        "Example 3:\n",
        "\n",
        "Input: list1 = [], list2 = [0]\n",
        "Output: [0]\n"
      ],
      "metadata": {
        "id": "9_cEAG2uKksU"
      }
    },
    {
      "cell_type": "code",
      "source": [
        "class Solution(object):\n",
        "    def mergeTwoLists(self, list1, list2):\n",
        "        \"\"\"\n",
        "        :type list1: Optional[ListNode]\n",
        "        :type list2: Optional[ListNode]\n",
        "        :rtype: Optional[ListNode]\n",
        "        \"\"\"\n",
        "        for item in list1:\n",
        "            list2.append(item)\n",
        "        list2.sort()\n",
        "        return list2\n",
        "sol = Solution()\n",
        "# sol.mergeTwoLists([1,2,4],[1,3,4])\n",
        "sol.mergeTwoLists([],[0])"
      ],
      "metadata": {
        "colab": {
          "base_uri": "https://localhost:8080/"
        },
        "id": "_Kc6fCU0KlM0",
        "outputId": "def12e6b-b352-43c0-94cc-f9574d99c914"
      },
      "execution_count": null,
      "outputs": [
        {
          "output_type": "execute_result",
          "data": {
            "text/plain": [
              "[0]"
            ]
          },
          "metadata": {},
          "execution_count": 4
        }
      ]
    },
    {
      "cell_type": "markdown",
      "source": [
        "Want to try a small task like:\n",
        "\n",
        "    Create your own linked list of 3 nodes\n",
        "\n",
        "    Print each value one by one\n",
        "\n"
      ],
      "metadata": {
        "id": "cua2C8SF-oVR"
      }
    },
    {
      "cell_type": "code",
      "source": [
        "class ListNode:\n",
        "  def __init__(self, val=0, next=None):\n",
        "    self.val = val\n",
        "    self.next = next"
      ],
      "metadata": {
        "id": "mnif57dG_KxB"
      },
      "execution_count": 13,
      "outputs": []
    },
    {
      "cell_type": "code",
      "source": [
        "node1 = ListNode(1)\n",
        "node1.next"
      ],
      "metadata": {
        "id": "I1val5xk-oxy"
      },
      "execution_count": 6,
      "outputs": []
    },
    {
      "cell_type": "code",
      "source": [
        "node2 = ListNode(2)\n",
        "node3 = ListNode(3)\n",
        "node1.next = node2\n",
        "node2.next = node3"
      ],
      "metadata": {
        "id": "JcLiPjZC-1A4"
      },
      "execution_count": 7,
      "outputs": []
    },
    {
      "cell_type": "code",
      "source": [
        "node1.val"
      ],
      "metadata": {
        "colab": {
          "base_uri": "https://localhost:8080/"
        },
        "id": "cr_Bil4jAgpl",
        "outputId": "6240081e-fd88-4502-ce37-39e74a40bcad"
      },
      "execution_count": 8,
      "outputs": [
        {
          "output_type": "execute_result",
          "data": {
            "text/plain": [
              "1"
            ]
          },
          "metadata": {},
          "execution_count": 8
        }
      ]
    },
    {
      "cell_type": "code",
      "source": [
        "node1.next.val"
      ],
      "metadata": {
        "colab": {
          "base_uri": "https://localhost:8080/"
        },
        "id": "YNlMakyEAis4",
        "outputId": "deb1b1a2-f1c5-45bb-e342-f6d48b207ec3"
      },
      "execution_count": 9,
      "outputs": [
        {
          "output_type": "execute_result",
          "data": {
            "text/plain": [
              "2"
            ]
          },
          "metadata": {},
          "execution_count": 9
        }
      ]
    },
    {
      "cell_type": "code",
      "source": [
        "node1.next.next.val"
      ],
      "metadata": {
        "colab": {
          "base_uri": "https://localhost:8080/"
        },
        "id": "m9NlO_j6AklE",
        "outputId": "d5d16d9b-662d-472f-d7fc-2eedbf49dfa2"
      },
      "execution_count": 10,
      "outputs": [
        {
          "output_type": "execute_result",
          "data": {
            "text/plain": [
              "3"
            ]
          },
          "metadata": {},
          "execution_count": 10
        }
      ]
    },
    {
      "cell_type": "code",
      "source": [
        "class ListNode:\n",
        "  def __init__(self, val=0, next=None):\n",
        "    self.val = val\n",
        "    self.next = next"
      ],
      "metadata": {
        "id": "hwVH6cVDD6UQ"
      },
      "execution_count": 28,
      "outputs": []
    },
    {
      "cell_type": "code",
      "source": [
        "def build_linked_list(values):\n",
        "  head = ListNode(values[0])\n",
        "  current = head\n",
        "  for value in values[1:]:\n",
        "    current.next = ListNode(value)\n",
        "    current = current.next\n",
        "  return head\n",
        "\n"
      ],
      "metadata": {
        "id": "XAt9ySJjAooE"
      },
      "execution_count": 32,
      "outputs": []
    },
    {
      "cell_type": "code",
      "source": [
        "def print_linked_list(node):\n",
        "    while node:\n",
        "        print(node.val, end=\" -> \")\n",
        "        node = node.next\n",
        "    print(\"None\")"
      ],
      "metadata": {
        "id": "UmttbNo7ICoc"
      },
      "execution_count": 33,
      "outputs": []
    },
    {
      "cell_type": "code",
      "source": [
        "linked_list = build_linked_list([1, 2, 3])\n",
        "print_linked_list(linked_list)"
      ],
      "metadata": {
        "colab": {
          "base_uri": "https://localhost:8080/"
        },
        "id": "EdUbg116IFuc",
        "outputId": "2f001757-38b0-4fdb-f719-5b4c153f7739"
      },
      "execution_count": 36,
      "outputs": [
        {
          "output_type": "stream",
          "name": "stdout",
          "text": [
            "1 -> 2 -> 3 -> None\n"
          ]
        }
      ]
    },
    {
      "cell_type": "code",
      "source": [
        "\n",
        "\n",
        "class Solution(object):\n",
        "    def mergeTwoLists(self, list1, list2):\n",
        "      current = ListNode()\n",
        "      return list1\n",
        "\n",
        "sol = Solution()\n",
        "sol.mergeTwoLists([1,2,4],[1,3,4])"
      ],
      "metadata": {
        "id": "h1RPI69zG5jO"
      },
      "execution_count": null,
      "outputs": []
    }
  ]
}