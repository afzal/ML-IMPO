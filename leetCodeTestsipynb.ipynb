{
  "nbformat": 4,
  "nbformat_minor": 0,
  "metadata": {
    "colab": {
      "provenance": [],
      "authorship_tag": "ABX9TyPuJdtVRxWR88weMlRrKCgC",
      "include_colab_link": true
    },
    "kernelspec": {
      "name": "python3",
      "display_name": "Python 3"
    },
    "language_info": {
      "name": "python"
    }
  },
  "cells": [
    {
      "cell_type": "markdown",
      "metadata": {
        "id": "view-in-github",
        "colab_type": "text"
      },
      "source": [
        "<a href=\"https://colab.research.google.com/github/afzal/ML-IMPO/blob/main/leetCodeTestsipynb.ipynb\" target=\"_parent\"><img src=\"https://colab.research.google.com/assets/colab-badge.svg\" alt=\"Open In Colab\"/></a>"
      ]
    },
    {
      "cell_type": "markdown",
      "source": [
        "Given a string s containing just the characters '(', ')', '{', '}', '[' and ']', determine if the input string is valid.\n",
        "\n",
        "An input string is valid if:\n",
        "\n",
        "    Open brackets must be closed by the same type of brackets.\n",
        "    Open brackets must be closed in the correct order.\n",
        "    Every close bracket has a corresponding open bracket of the same type.\n",
        "\n",
        "\n",
        "\n",
        "Example 1:\n",
        "\n",
        "Input: s = \"()\"\n",
        "\n",
        "Output: true\n",
        "\n",
        "Example 2:\n",
        "\n",
        "Input: s = \"()[]{}\"\n",
        "\n",
        "Output: true\n",
        "\n",
        "Example 3:\n",
        "\n",
        "Input: s = \"(]\"\n",
        "\n",
        "Output: false\n",
        "\n",
        "Example 4:\n",
        "\n",
        "Input: s = \"([])\"\n",
        "\n",
        "Output: true\n",
        "\n",
        "\n",
        "\n",
        "Constraints:\n",
        "\n",
        "    1 <= s.length <= 104\n",
        "    s consists of parentheses only '()[]{}'.\n",
        "\n"
      ],
      "metadata": {
        "id": "nrB7HtyHG8l_"
      }
    },
    {
      "cell_type": "code",
      "execution_count": 43,
      "metadata": {
        "colab": {
          "base_uri": "https://localhost:8080/"
        },
        "id": "gv_lZ7f9GBL0",
        "outputId": "e6b7220b-cb14-4f8e-a9a0-a8f6d30fdfa9"
      },
      "outputs": [
        {
          "output_type": "stream",
          "name": "stdout",
          "text": [
            "True\n"
          ]
        }
      ],
      "source": [
        "class Solution(object):\n",
        "    def isValid(self, s):\n",
        "        \"\"\"\n",
        "        :type s: str\n",
        "        :rtype: bool\n",
        "        \"\"\"\n",
        "        return s.count(\"(\") == s.count(\")\") and s.count(\"{\") == s.count(\"}\") and s.count(\"[\") == s.count(\"]\")\n",
        "\n",
        "\n",
        "\n",
        "        return valid\n",
        "\n",
        "sol = Solution()\n",
        "\n",
        "print(sol.isValid(\"([])\"))\n",
        ""
      ]
    },
    {
      "cell_type": "markdown",
      "source": [
        "Type\tComplexity\n",
        "Time\tO(n)\n",
        "Space\tO(1)"
      ],
      "metadata": {
        "id": "adFqRvM1HymM"
      }
    },
    {
      "cell_type": "code",
      "source": [
        "class Solution(object):\n",
        "    def isValid(self, s):\n",
        "        \"\"\"\n",
        "        :type s: str\n",
        "        :rtype: bool\n",
        "        \"\"\"\n",
        "        count = {\"[\":0,\"]\":0,\"(\":0,\")\":0,\"{\":0,\"}\":0}\n",
        "\n",
        "        for char in s:\n",
        "          if char == \"(\":\n",
        "            count[char] +=1\n",
        "          elif char == \"[\":\n",
        "            count[char] +=1\n",
        "          elif char == \"{\":\n",
        "            count[char] +=1\n",
        "          elif char == \")\":\n",
        "            count[char] +=1\n",
        "          elif char == \"]\":\n",
        "            count[char] +=1\n",
        "          elif char == \"}\":\n",
        "            count[char] +=1\n",
        "        return count[\"(\"] ==count[\")\"]  and count[\"[\"]  == count[\"]\"]  and count[\"{\"]  == count[\"}\"]\n",
        "\n",
        "\n",
        "\n",
        "        return valid\n",
        "\n",
        "sol = Solution()\n",
        "\n",
        "print(sol.isValid(\"([])\"))\n",
        ""
      ],
      "metadata": {
        "colab": {
          "base_uri": "https://localhost:8080/"
        },
        "id": "EsFdLeHkHAvw",
        "outputId": "2c358be3-63e6-46df-fee8-3241e3c5e1f4"
      },
      "execution_count": 11,
      "outputs": [
        {
          "output_type": "stream",
          "name": "stdout",
          "text": [
            "True\n"
          ]
        }
      ]
    },
    {
      "cell_type": "markdown",
      "source": [
        "Time\tO(n)\n",
        "Space\tO(1)"
      ],
      "metadata": {
        "id": "Gyrg56PpL5P2"
      }
    },
    {
      "cell_type": "code",
      "source": [
        "class Solution(object):\n",
        "    def isValid(self, s):\n",
        "        \"\"\"\n",
        "        :type s: str\n",
        "        :rtype: bool\n",
        "        \"\"\"\n",
        "        count = {\"[\":0,\"]\":0,\"(\":0,\")\":0,\"{\":0,\"}\":0}\n",
        "\n",
        "        for char in s:\n",
        "          if char in count:\n",
        "            count[char] +=1\n",
        "\n",
        "        return count[\"(\"] ==count[\")\"]  and count[\"[\"]  == count[\"]\"]  and count[\"{\"]  == count[\"}\"]\n",
        "\n",
        "\n",
        "\n",
        "        return valid\n",
        "\n",
        "sol = Solution()\n",
        "\n",
        "print(sol.isValid(\"([])\"))\n",
        ""
      ],
      "metadata": {
        "colab": {
          "base_uri": "https://localhost:8080/"
        },
        "id": "lH1VJf2QLOSr",
        "outputId": "c4ab231c-c913-4357-9207-ccb9212002d2"
      },
      "execution_count": 12,
      "outputs": [
        {
          "output_type": "stream",
          "name": "stdout",
          "text": [
            "True\n"
          ]
        }
      ]
    },
    {
      "cell_type": "markdown",
      "source": [
        "Time\tO(n)\tOne pass over the string\n",
        "Space\tO(1)\tFixed-size dictionary for bracket counts"
      ],
      "metadata": {
        "id": "Qhat6FqPMXWU"
      }
    },
    {
      "cell_type": "code",
      "source": [
        "class Solution(object):\n",
        "    def isValid(self, s):\n",
        "        \"\"\"\n",
        "        :type s: str\n",
        "        :rtype: bool\n",
        "        \"\"\"\n",
        "        pairs = {\"[\":\"]\", \"(\":\")\" ,\"{\":\"}\"}\n",
        "        stack = []\n",
        "\n",
        "        for char in s:\n",
        "          print(char)\n",
        "          if char in pairs:\n",
        "            stack.append(char)\n",
        "            print(\"------------\")\n",
        "            print(stack)\n",
        "            print(\"------------\")\n",
        "          elif char in pairs.values():\n",
        "            print(\"pairs.values()\", pairs.values())\n",
        "            print(\"char:\", char)\n",
        "            print(\"------------\")\n",
        "            print(\"pairs[stack[-1]]\", pairs[stack[-1]])\n",
        "            print(\"------------\")\n",
        "\n",
        "            if not stack or pairs[stack[-1]] != char:\n",
        "\n",
        "              return False\n",
        "            else:\n",
        "              stack.pop()\n",
        "\n",
        "        return not stack\n",
        "\n",
        "\n",
        "\n",
        "\n",
        "\n",
        "sol = Solution()\n",
        "\n",
        "print(sol.isValid(\"([)]\"))\n",
        ""
      ],
      "metadata": {
        "colab": {
          "base_uri": "https://localhost:8080/"
        },
        "id": "yzIjFavAMX32",
        "outputId": "cd3b059d-bc8e-4486-8831-b29cfc115391"
      },
      "execution_count": 42,
      "outputs": [
        {
          "output_type": "stream",
          "name": "stdout",
          "text": [
            "(\n",
            "------------\n",
            "['(']\n",
            "------------\n",
            "[\n",
            "------------\n",
            "['(', '[']\n",
            "------------\n",
            ")\n",
            "pairs.values() dict_values([']', ')', '}'])\n",
            "char: )\n",
            "------------\n",
            "pairs[stack[-1]] ]\n",
            "------------\n",
            "False\n"
          ]
        }
      ]
    },
    {
      "cell_type": "markdown",
      "source": [
        "Complexity Type\tValue\n",
        "Time\tO(n)\n",
        "Space\tO(n)"
      ],
      "metadata": {
        "id": "vf-YI9cBUCzA"
      }
    },
    {
      "cell_type": "code",
      "source": [],
      "metadata": {
        "id": "riTz6HhEUDY0"
      },
      "execution_count": null,
      "outputs": []
    }
  ]
}