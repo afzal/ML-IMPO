{
  "nbformat": 4,
  "nbformat_minor": 0,
  "metadata": {
    "colab": {
      "provenance": [],
      "authorship_tag": "ABX9TyMly6ZAV1O2V0wUbjuv6AqL",
      "include_colab_link": true
    },
    "kernelspec": {
      "name": "python3",
      "display_name": "Python 3"
    },
    "language_info": {
      "name": "python"
    }
  },
  "cells": [
    {
      "cell_type": "markdown",
      "metadata": {
        "id": "view-in-github",
        "colab_type": "text"
      },
      "source": [
        "<a href=\"https://colab.research.google.com/github/afzal/ML-IMPO/blob/main/first_layer_output.ipynb\" target=\"_parent\"><img src=\"https://colab.research.google.com/assets/colab-badge.svg\" alt=\"Open In Colab\"/></a>"
      ]
    },
    {
      "cell_type": "code",
      "source": [
        "import tensorflow as tf\n",
        "import numpy as np\n",
        "from tensorflow.keras.models import Sequential, Model\n",
        "from tensorflow.keras.layers import Dense\n",
        "\n",
        "# Step 1: Create a simple Sequential model\n",
        "model = Sequential([\n",
        "    Dense(64, activation='relu', input_shape=(10,)),   # Layer 0\n",
        "    Dense(1, activation='sigmoid')                      # Layer 1\n",
        "])\n",
        "\n",
        "# Step 2: Create a new model that outputs only the first layer's output\n",
        "first_layer_model = Model(inputs=model.input, outputs=model.layers[0].output)\n",
        "\n",
        "# Step 3: Create a dummy input sample (1 sample with 10 features)\n",
        "x_input = np.random.rand(1, 10).astype(np.float32)\n",
        "\n",
        "# Step 4: Get and print the output from the first layer\n",
        "output = first_layer_model.predict(x_input)\n",
        "print(\"Output of first layer:\\n\", output)\n"
      ],
      "metadata": {
        "id": "_j6JQTqtA5CX"
      },
      "execution_count": null,
      "outputs": []
    }
  ]
}